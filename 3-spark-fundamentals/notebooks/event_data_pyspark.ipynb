{
 "cells": [
  {
   "cell_type": "code",
   "execution_count": 18,
   "metadata": {
    "vscode": {
     "languageId": "plaintext"
    }
   },
   "outputs": [
    {
     "name": "stdout",
     "output_type": "stream",
     "text": [
      "+-----------+----------+--------+--------------------+----------+--------------------+-------------------+\n",
      "|    user_id| device_id|referrer|                host|       url|          event_time|         event_date|\n",
      "+-----------+----------+--------+--------------------+----------+--------------------+-------------------+\n",
      "| 1037710827| 532630305|    NULL| www.zachwilson.tech|         /|2021-03-08 17:27:...|2021-03-08 00:00:00|\n",
      "|  925588856| 532630305|    NULL|    www.eczachly.com|         /|2021-05-10 11:26:...|2021-05-10 00:00:00|\n",
      "|-1180485268| 532630305|    NULL|admin.zachwilson....|         /|2021-02-17 16:19:...|2021-02-17 00:00:00|\n",
      "|-1044833855| 532630305|    NULL| www.zachwilson.tech|         /|2021-09-24 15:53:...|2021-09-24 00:00:00|\n",
      "|  747494706| 532630305|    NULL| www.zachwilson.tech|         /|2021-09-26 16:03:...|2021-09-26 00:00:00|\n",
      "|  747494706| 532630305|    NULL|admin.zachwilson....|         /|2021-02-21 16:08:...|2021-02-21 00:00:00|\n",
      "| -824540328| 532630305|    NULL|admin.zachwilson....|         /|2021-09-28 17:23:...|2021-09-28 00:00:00|\n",
      "| -824540328| 532630305|    NULL|    www.eczachly.com|         /|2021-09-29 01:22:...|2021-09-29 00:00:00|\n",
      "| 1833036683| 532630305|    NULL|admin.zachwilson....|         /|2021-01-24 03:15:...|2021-01-24 00:00:00|\n",
      "|-2134824313| 532630305|    NULL|    www.eczachly.com|         /|2021-01-25 00:03:...|2021-01-25 00:00:00|\n",
      "|-1809929467|-906264142|    NULL|admin.zachwilson....|/.git/HEAD|2021-02-22 01:36:...|2021-02-22 00:00:00|\n",
      "| 2002285749|-906264142|    NULL|    www.eczachly.com|         /|2021-02-22 02:25:...|2021-02-22 00:00:00|\n",
      "|-1562965412| 532630305|    NULL| www.zachwilson.tech|         /|2021-01-30 20:46:...|2021-01-30 00:00:00|\n",
      "|-1099860451| 532630305|    NULL|    www.eczachly.com|         /|2021-02-04 23:49:...|2021-02-04 00:00:00|\n",
      "| 1246896869|-906264142|    NULL| www.zachwilson.tech|         /|2021-02-22 02:50:...|2021-02-22 00:00:00|\n",
      "| -629331502|-906264142|    NULL|admin.zachwilson....|/.git/HEAD|2021-02-22 23:51:...|2021-02-22 00:00:00|\n",
      "|-1913422462|-906264142|    NULL|    www.eczachly.com|         /|2021-02-23 00:17:...|2021-02-23 00:00:00|\n",
      "|   50429624| 532630305|    NULL|    www.eczachly.com|         /|2022-12-28 01:38:...|2022-12-28 00:00:00|\n",
      "|  222389292| 532630305|    NULL| www.zachwilson.tech|         /|2022-12-28 05:23:...|2022-12-28 00:00:00|\n",
      "| -779924777| 532630305|    NULL| www.zachwilson.tech|         /|2022-12-28 16:45:...|2022-12-28 00:00:00|\n",
      "+-----------+----------+--------+--------------------+----------+--------------------+-------------------+\n",
      "only showing top 20 rows\n",
      "\n"
     ]
    }
   ],
   "source": [
    "from pyspark.sql import SparkSession\n",
    "from pyspark.sql.functions import expr, col\n",
    "\n",
    "spark = SparkSession.builder.appName(\"Jupyter\").getOrCreate()\n",
    "\n",
    "df_events = spark.read.option(\"header\", \"true\") \\\n",
    "            .csv(\"/home/iceberg/data/events.csv\") \\\n",
    "            .withColumn(\"event_date\", \n",
    "                        expr(\"DATE_TRUNC('day', event_time)\"))\n",
    "\n",
    "df_events.show()"
   ]
  },
  {
   "cell_type": "code",
   "execution_count": 9,
   "metadata": {},
   "outputs": [
    {
     "name": "stdout",
     "output_type": "stream",
     "text": [
      "+-----------+--------------------+-------+------------------+\n",
      "|  device_id|        browser_type|os_type|       device_type|\n",
      "+-----------+--------------------+-------+------------------+\n",
      "|-2147042689|             Firefox| Ubuntu|             Other|\n",
      "|-2146219609|            WhatsApp|  Other|            Spider|\n",
      "|-2145574618|       Chrome Mobile|Android|Generic Smartphone|\n",
      "|-2144707350|Chrome Mobile Web...|Android|  Samsung SM-G988B|\n",
      "|-2143813999|Mobile Safari UI/...|    iOS|            iPhone|\n",
      "|-2142634982|   Chrome Mobile iOS|    iOS|            iPhone|\n",
      "|-2142350383|   Chrome Mobile iOS|    iOS|            iPhone|\n",
      "|-2141256237|   Chrome Mobile iOS|    iOS|            iPhone|\n",
      "|-2138977887|             Firefox|OpenBSD|             Other|\n",
      "|-2136667425|              Chrome|Windows|             Other|\n",
      "|-2136444196|   Chrome Mobile iOS|    iOS|            iPhone|\n",
      "|-2136415223|Chrome Mobile Web...|Android| Samsung SM-A305GT|\n",
      "|-2136251094|             Firefox| Ubuntu|             Other|\n",
      "|-2136057702|           CFNetwork|  Other|        iOS-Device|\n",
      "|-2136012321|Chrome Mobile Web...|Android|          MAR-LX3A|\n",
      "|-2135188814|   Chrome Mobile iOS|    iOS|            iPhone|\n",
      "|-2134830273|   Chrome Mobile iOS|    iOS|            iPhone|\n",
      "|-2132039044|   Chrome Mobile iOS|    iOS|              iPad|\n",
      "|-2130748804|Chrome Mobile Web...|Android|  Samsung SM-G981N|\n",
      "|-2130745225|          Spider_Bot|  Other|             Other|\n",
      "+-----------+--------------------+-------+------------------+\n",
      "only showing top 20 rows\n",
      "\n"
     ]
    }
   ],
   "source": [
    "df_devices = spark.read.option(\"header\", \n",
    "                               \"true\").csv(\"/home/iceberg/data/devices.csv\")\n",
    "df_devices.show()"
   ]
  },
  {
   "cell_type": "code",
   "execution_count": 20,
   "metadata": {},
   "outputs": [
    {
     "name": "stdout",
     "output_type": "stream",
     "text": [
      "+----------+-----------+--------+--------------------+----------+--------------------+-------------------+------------+-------+-----------+\n",
      "| device_id|    user_id|referrer|                host|       url|          event_time|         event_date|browser_type|os_type|device_type|\n",
      "+----------+-----------+--------+--------------------+----------+--------------------+-------------------+------------+-------+-----------+\n",
      "| 532630305| 1037710827|    NULL| www.zachwilson.tech|         /|2021-03-08 17:27:...|2021-03-08 00:00:00|       Other|  Other|      Other|\n",
      "| 532630305|  925588856|    NULL|    www.eczachly.com|         /|2021-05-10 11:26:...|2021-05-10 00:00:00|       Other|  Other|      Other|\n",
      "| 532630305|-1180485268|    NULL|admin.zachwilson....|         /|2021-02-17 16:19:...|2021-02-17 00:00:00|       Other|  Other|      Other|\n",
      "| 532630305|-1044833855|    NULL| www.zachwilson.tech|         /|2021-09-24 15:53:...|2021-09-24 00:00:00|       Other|  Other|      Other|\n",
      "| 532630305|  747494706|    NULL| www.zachwilson.tech|         /|2021-09-26 16:03:...|2021-09-26 00:00:00|       Other|  Other|      Other|\n",
      "| 532630305|  747494706|    NULL|admin.zachwilson....|         /|2021-02-21 16:08:...|2021-02-21 00:00:00|       Other|  Other|      Other|\n",
      "| 532630305| -824540328|    NULL|admin.zachwilson....|         /|2021-09-28 17:23:...|2021-09-28 00:00:00|       Other|  Other|      Other|\n",
      "| 532630305| -824540328|    NULL|    www.eczachly.com|         /|2021-09-29 01:22:...|2021-09-29 00:00:00|       Other|  Other|      Other|\n",
      "| 532630305| 1833036683|    NULL|admin.zachwilson....|         /|2021-01-24 03:15:...|2021-01-24 00:00:00|       Other|  Other|      Other|\n",
      "| 532630305|-2134824313|    NULL|    www.eczachly.com|         /|2021-01-25 00:03:...|2021-01-25 00:00:00|       Other|  Other|      Other|\n",
      "|-906264142|-1809929467|    NULL|admin.zachwilson....|/.git/HEAD|2021-02-22 01:36:...|2021-02-22 00:00:00|        curl|  Other|      Other|\n",
      "|-906264142| 2002285749|    NULL|    www.eczachly.com|         /|2021-02-22 02:25:...|2021-02-22 00:00:00|        curl|  Other|      Other|\n",
      "| 532630305|-1562965412|    NULL| www.zachwilson.tech|         /|2021-01-30 20:46:...|2021-01-30 00:00:00|       Other|  Other|      Other|\n",
      "| 532630305|-1099860451|    NULL|    www.eczachly.com|         /|2021-02-04 23:49:...|2021-02-04 00:00:00|       Other|  Other|      Other|\n",
      "|-906264142| 1246896869|    NULL| www.zachwilson.tech|         /|2021-02-22 02:50:...|2021-02-22 00:00:00|        curl|  Other|      Other|\n",
      "|-906264142| -629331502|    NULL|admin.zachwilson....|/.git/HEAD|2021-02-22 23:51:...|2021-02-22 00:00:00|        curl|  Other|      Other|\n",
      "|-906264142|-1913422462|    NULL|    www.eczachly.com|         /|2021-02-23 00:17:...|2021-02-23 00:00:00|        curl|  Other|      Other|\n",
      "| 532630305|   50429624|    NULL|    www.eczachly.com|         /|2022-12-28 01:38:...|2022-12-28 00:00:00|       Other|  Other|      Other|\n",
      "| 532630305|  222389292|    NULL| www.zachwilson.tech|         /|2022-12-28 05:23:...|2022-12-28 00:00:00|       Other|  Other|      Other|\n",
      "| 532630305| -779924777|    NULL| www.zachwilson.tech|         /|2022-12-28 16:45:...|2022-12-28 00:00:00|       Other|  Other|      Other|\n",
      "+----------+-----------+--------+--------------------+----------+--------------------+-------------------+------------+-------+-----------+\n",
      "only showing top 20 rows\n",
      "\n"
     ]
    }
   ],
   "source": [
    "df_events_devices = df_events.join(df_devices, \n",
    "                                   on=\"device_id\",\n",
    "                                   how=\"left\")\n",
    "df_events_devices.show()"
   ]
  },
  {
   "cell_type": "code",
   "execution_count": 22,
   "metadata": {},
   "outputs": [
    {
     "name": "stderr",
     "output_type": "stream",
     "text": [
      "                                                                                \r"
     ]
    },
    {
     "name": "stdout",
     "output_type": "stream",
     "text": [
      "+-----------+-----------+--------------------+--------------------+--------------------+--------------------+-------------------+------------+-------+------------------+\n",
      "|  device_id|    user_id|            referrer|                host|                 url|          event_time|         event_date|browser_type|os_type|       device_type|\n",
      "+-----------+-----------+--------------------+--------------------+--------------------+--------------------+-------------------+------------+-------+------------------+\n",
      "|  532630305| 1129583063|                NULL|admin.zachwilson....|                   /|2021-01-07 09:21:...|2021-01-07 00:00:00|       Other|  Other|             Other|\n",
      "|  532630305|-1180485268|                NULL|    www.eczachly.com|                   /|2021-01-07 18:45:...|2021-01-07 00:00:00|       Other|  Other|             Other|\n",
      "|  532630305| 1129583063|                NULL|    www.eczachly.com|                   /|2021-01-07 21:57:...|2021-01-07 00:00:00|       Other|  Other|             Other|\n",
      "| 1088283544| -648945006|                NULL|    www.eczachly.com|                   /|2021-01-07 02:58:...|2021-01-07 00:00:00|    PetalBot|Android|Generic Smartphone|\n",
      "| -158310583|-1871780024|                NULL|    www.eczachly.com|                   /|2021-01-07 04:17:...|2021-01-07 00:00:00|    PetalBot|  Other|            Spider|\n",
      "| 1088283544|  203689086|                NULL|    www.eczachly.com|/blog/what-exactl...|2021-01-07 10:03:...|2021-01-07 00:00:00|    PetalBot|Android|Generic Smartphone|\n",
      "| -158310583|-1381834161|                NULL|    www.eczachly.com|                   /|2021-01-07 23:07:...|2021-01-07 00:00:00|    PetalBot|  Other|            Spider|\n",
      "|-1217993711|  -43429336|                NULL| www.zachwilson.tech|            /contact|2021-01-07 04:57:...|2021-01-07 00:00:00|   AhrefsBot|  Other|            Spider|\n",
      "| 1847648591|  795587657|                NULL| www.zachwilson.tech|                   /|2021-01-07 19:56:...|2021-01-07 00:00:00|   AhrefsBot|  Other|            Spider|\n",
      "|-1217993711|  923158878|                NULL| www.zachwilson.tech|               /blog|2021-01-07 19:56:...|2021-01-07 00:00:00|   AhrefsBot|  Other|            Spider|\n",
      "| 1957784035|-1617088793|https://www.zachw...| www.zachwilson.tech|            /contact|2021-01-07 00:19:...|2021-01-07 00:00:00|      Chrome|Windows|             Other|\n",
      "| 1957784035|-1617088793|https://www.zachw...| www.zachwilson.tech|     /api/v1/contact|2021-01-07 00:19:...|2021-01-07 00:00:00|      Chrome|Windows|             Other|\n",
      "| 1957784035|-1617088793|https://www.zachw...| www.zachwilson.tech|            /contact|2021-01-07 00:19:...|2021-01-07 00:00:00|      Chrome|Windows|             Other|\n",
      "| 1141939293| -267976675|https://www.zachw...| www.zachwilson.tech|            /contact|2021-01-07 01:57:...|2021-01-07 00:00:00|      Chrome|Windows|             Other|\n",
      "| 1141939293| -267976675|https://www.zachw...| www.zachwilson.tech|     /api/v1/contact|2021-01-07 01:57:...|2021-01-07 00:00:00|      Chrome|Windows|             Other|\n",
      "| 1141939293| -267976675|https://www.zachw...| www.zachwilson.tech|            /contact|2021-01-07 01:57:...|2021-01-07 00:00:00|      Chrome|Windows|             Other|\n",
      "|-1307168836| 1198758947|                NULL| www.zachwilson.tech|               /blog|2021-01-07 09:57:...|2021-01-07 00:00:00|      Chrome|Windows|             Other|\n",
      "| 1141939293|-1894709267|https://www.zachw...| www.zachwilson.tech|                   /|2021-01-07 10:12:...|2021-01-07 00:00:00|      Chrome|Windows|             Other|\n",
      "| 1141939293|-1894709267|https://www.zachw...| www.zachwilson.tech|            /contact|2021-01-07 10:12:...|2021-01-07 00:00:00|      Chrome|Windows|             Other|\n",
      "| 1141939293|-1894709267|https://www.zachw...| www.zachwilson.tech|     /api/v1/contact|2021-01-07 10:13:...|2021-01-07 00:00:00|      Chrome|Windows|             Other|\n",
      "+-----------+-----------+--------------------+--------------------+--------------------+--------------------+-------------------+------------+-------+------------------+\n",
      "only showing top 20 rows\n",
      "\n",
      "+-----------+-----------+--------------------+--------------------+--------------------+--------------------+-------------------+------------+-------+------------------+\n",
      "|  device_id|    user_id|            referrer|                host|                 url|          event_time|         event_date|browser_type|os_type|       device_type|\n",
      "+-----------+-----------+--------------------+--------------------+--------------------+--------------------+-------------------+------------+-------+------------------+\n",
      "| -643696601| 1272828233|                NULL|admin.zachwilson....|                   /|2021-01-02 13:53:...|2021-01-02 00:00:00|      Chrome|Windows|             Other|\n",
      "|  898871897| 2110046626|                NULL|admin.zachwilson....|       /wp-login.php|2021-01-02 19:57:...|2021-01-02 00:00:00|      Chrome|  Linux|             Other|\n",
      "| -643696601| 1272828233|                NULL|admin.zachwilson....|                   /|2021-01-02 21:05:...|2021-01-02 00:00:00|      Chrome|Windows|             Other|\n",
      "| -643696601| 1272828233|                NULL|admin.zachwilson....|                   /|2021-01-02 21:37:...|2021-01-02 00:00:00|      Chrome|Windows|             Other|\n",
      "|  532630305|  747494706|                NULL|admin.zachwilson....|                   /|2021-01-02 19:36:...|2021-01-02 00:00:00|       Other|  Other|             Other|\n",
      "| -643696601| 1272828233|                NULL|    www.eczachly.com|                   /|2021-01-02 08:14:...|2021-01-02 00:00:00|      Chrome|Windows|             Other|\n",
      "|-2012543895| 1399665425|                NULL|    www.eczachly.com|                   /|2021-01-02 00:20:...|2021-01-02 00:00:00|   Googlebot|  Other|            Spider|\n",
      "| -158310583| 1047962242|                NULL|    www.eczachly.com|                   /|2021-01-02 11:40:...|2021-01-02 00:00:00|    PetalBot|  Other|            Spider|\n",
      "| 1088283544|  210988258|                NULL|    www.eczachly.com|            /contact|2021-01-02 11:11:...|2021-01-02 00:00:00|    PetalBot|Android|Generic Smartphone|\n",
      "| -290659081|  125243313|                NULL|    www.eczachly.com|                   /|2021-01-02 02:06:...|2021-01-02 00:00:00|     bingbot|  Other|            Spider|\n",
      "| -290659081|  632739597|                NULL|    www.eczachly.com|/blog/what-exactl...|2021-01-02 02:58:...|2021-01-02 00:00:00|     bingbot|  Other|            Spider|\n",
      "| -290659081|-1780827820|                NULL|    www.eczachly.com|                   /|2021-01-02 04:45:...|2021-01-02 00:00:00|     bingbot|  Other|            Spider|\n",
      "| -290659081|  632739597|                NULL|    www.eczachly.com|                   /|2021-01-02 05:14:...|2021-01-02 00:00:00|     bingbot|  Other|            Spider|\n",
      "| -290659081|  273700037|                NULL|    www.eczachly.com|                   /|2021-01-02 07:51:...|2021-01-02 00:00:00|     bingbot|  Other|            Spider|\n",
      "| -290659081|  273700037|                NULL|    www.eczachly.com|                   /|2021-01-02 11:23:...|2021-01-02 00:00:00|     bingbot|  Other|            Spider|\n",
      "| -290659081|  632739597|                NULL|    www.eczachly.com|        /sitemap.xml|2021-01-02 14:10:...|2021-01-02 00:00:00|     bingbot|  Other|            Spider|\n",
      "| -290659081|  659201289|                NULL|    www.eczachly.com|/blog/life-of-a-s...|2021-01-02 15:53:...|2021-01-02 00:00:00|     bingbot|  Other|            Spider|\n",
      "| 1957784035| 1445055201|https://www.zachw...| www.zachwilson.tech|            /contact|2021-01-02 10:17:...|2021-01-02 00:00:00|      Chrome|Windows|             Other|\n",
      "| 2038970862| 1746646422|                NULL| www.zachwilson.tech|                   /|2021-01-02 10:48:...|2021-01-02 00:00:00|      Chrome|Windows|             Other|\n",
      "| -784483831| 1072106763|https://www.zachw...| www.zachwilson.tech|            /contact|2021-01-02 09:37:...|2021-01-02 00:00:00|      Chrome|Windows|             Other|\n",
      "+-----------+-----------+--------------------+--------------------+--------------------+--------------------+-------------------+------------+-------+------------------+\n",
      "only showing top 20 rows\n",
      "\n"
     ]
    }
   ],
   "source": [
    "# .sortWithinPartitions() sorts within partitions, whereas .sort() is a global sort, which is very slow\n",
    "\n",
    "# Note - exchange is synonymous with Shuffle\n",
    "sorted = df_events_devices.repartition(10, col(\"event_date\")) \\\n",
    "            .sortWithinPartitions(col(\"event_date\"), col(\"host\"), col(\"browser_type\")) \\\n",
    "            .withColumn(\"event_time\", col(\"event_time\").cast(\"timestamp\"))\n",
    "\n",
    "sorted_two = df_events_devices.repartition(10, col(\"event_date\")) \\\n",
    "                .sort(col(\"event_date\"), col(\"host\"), col(\"browser_type\")) \\\n",
    "                .withColumn(\"event_time\", col(\"event_time\").cast(\"timestamp\"))\n",
    "\n",
    "sorted.show()\n",
    "sorted_two.show()"
   ]
  },
  {
   "cell_type": "code",
   "execution_count": 23,
   "metadata": {},
   "outputs": [
    {
     "name": "stdout",
     "output_type": "stream",
     "text": [
      "== Physical Plan ==\n",
      "AdaptiveSparkPlan isFinalPlan=false\n",
      "+- Project [device_id#884, user_id#883, referrer#885, host#886, url#887, cast(event_time#888 as timestamp) AS event_time#1248, event_date#895, browser_type#335, os_type#336, device_type#337]\n",
      "   +- Sort [event_date#895 ASC NULLS FIRST, host#886 ASC NULLS FIRST, browser_type#335 ASC NULLS FIRST], false, 0\n",
      "      +- Exchange hashpartitioning(event_date#895, 10), REPARTITION_BY_NUM, [plan_id=2097]\n",
      "         +- Project [device_id#884, user_id#883, referrer#885, host#886, url#887, event_time#888, event_date#895, browser_type#335, os_type#336, device_type#337]\n",
      "            +- BroadcastHashJoin [device_id#884], [device_id#334], LeftOuter, BuildRight, false\n",
      "               :- Project [user_id#883, device_id#884, referrer#885, host#886, url#887, event_time#888, date_trunc(day, cast(event_time#888 as timestamp), Some(Etc/UTC)) AS event_date#895]\n",
      "               :  +- FileScan csv [user_id#883,device_id#884,referrer#885,host#886,url#887,event_time#888] Batched: false, DataFilters: [], Format: CSV, Location: InMemoryFileIndex(1 paths)[file:/home/iceberg/data/events.csv], PartitionFilters: [], PushedFilters: [], ReadSchema: struct<user_id:string,device_id:string,referrer:string,host:string,url:string,event_time:string>\n",
      "               +- BroadcastExchange HashedRelationBroadcastMode(List(input[0, string, false]),false), [plan_id=2094]\n",
      "                  +- Filter isnotnull(device_id#334)\n",
      "                     +- FileScan csv [device_id#334,browser_type#335,os_type#336,device_type#337] Batched: false, DataFilters: [isnotnull(device_id#334)], Format: CSV, Location: InMemoryFileIndex(1 paths)[file:/home/iceberg/data/devices.csv], PartitionFilters: [], PushedFilters: [IsNotNull(device_id)], ReadSchema: struct<device_id:string,browser_type:string,os_type:string,device_type:string>\n",
      "\n",
      "\n",
      "== Physical Plan ==\n",
      "AdaptiveSparkPlan isFinalPlan=false\n",
      "+- Project [device_id#884, user_id#883, referrer#885, host#886, url#887, cast(event_time#888 as timestamp) AS event_time#1259, event_date#895, browser_type#335, os_type#336, device_type#337]\n",
      "   +- Sort [event_date#895 ASC NULLS FIRST, host#886 ASC NULLS FIRST, browser_type#335 ASC NULLS FIRST], true, 0\n",
      "      +- Exchange rangepartitioning(event_date#895 ASC NULLS FIRST, host#886 ASC NULLS FIRST, browser_type#335 ASC NULLS FIRST, 200), ENSURE_REQUIREMENTS, [plan_id=2144]\n",
      "         +- Exchange hashpartitioning(event_date#895, 10), REPARTITION_BY_NUM, [plan_id=2142]\n",
      "            +- Project [device_id#884, user_id#883, referrer#885, host#886, url#887, event_time#888, event_date#895, browser_type#335, os_type#336, device_type#337]\n",
      "               +- BroadcastHashJoin [device_id#884], [device_id#334], LeftOuter, BuildRight, false\n",
      "                  :- Project [user_id#883, device_id#884, referrer#885, host#886, url#887, event_time#888, date_trunc(day, cast(event_time#888 as timestamp), Some(Etc/UTC)) AS event_date#895]\n",
      "                  :  +- FileScan csv [user_id#883,device_id#884,referrer#885,host#886,url#887,event_time#888] Batched: false, DataFilters: [], Format: CSV, Location: InMemoryFileIndex(1 paths)[file:/home/iceberg/data/events.csv], PartitionFilters: [], PushedFilters: [], ReadSchema: struct<user_id:string,device_id:string,referrer:string,host:string,url:string,event_time:string>\n",
      "                  +- BroadcastExchange HashedRelationBroadcastMode(List(input[0, string, false]),false), [plan_id=2139]\n",
      "                     +- Filter isnotnull(device_id#334)\n",
      "                        +- FileScan csv [device_id#334,browser_type#335,os_type#336,device_type#337] Batched: false, DataFilters: [isnotnull(device_id#334)], Format: CSV, Location: InMemoryFileIndex(1 paths)[file:/home/iceberg/data/devices.csv], PartitionFilters: [], PushedFilters: [IsNotNull(device_id)], ReadSchema: struct<device_id:string,browser_type:string,os_type:string,device_type:string>\n",
      "\n",
      "\n"
     ]
    }
   ],
   "source": [
    "sorted.explain()\n",
    "sorted_two.explain()"
   ]
  },
  {
   "cell_type": "code",
   "execution_count": 31,
   "metadata": {},
   "outputs": [
    {
     "data": {
      "text/html": [
       "<table>\n",
       "    <thead>\n",
       "        <tr>\n",
       "        </tr>\n",
       "    </thead>\n",
       "    <tbody>\n",
       "    </tbody>\n",
       "</table>"
      ],
      "text/plain": [
       "++\n",
       "||\n",
       "++\n",
       "++"
      ]
     },
     "execution_count": 31,
     "metadata": {},
     "output_type": "execute_result"
    }
   ],
   "source": [
    "%%sql\n",
    "\n",
    "CREATE DATABASE IF NOT EXISTS bootcamp;"
   ]
  },
  {
   "cell_type": "code",
   "execution_count": 32,
   "metadata": {},
   "outputs": [
    {
     "data": {
      "text/html": [
       "<table>\n",
       "    <thead>\n",
       "        <tr>\n",
       "        </tr>\n",
       "    </thead>\n",
       "    <tbody>\n",
       "    </tbody>\n",
       "</table>"
      ],
      "text/plain": [
       "++\n",
       "||\n",
       "++\n",
       "++"
      ]
     },
     "execution_count": 32,
     "metadata": {},
     "output_type": "execute_result"
    }
   ],
   "source": [
    "%%sql\n",
    "\n",
    "DROP TABLE IF EXISTS bootcamp.events;"
   ]
  },
  {
   "cell_type": "code",
   "execution_count": 33,
   "metadata": {},
   "outputs": [
    {
     "data": {
      "text/html": [
       "<table>\n",
       "    <thead>\n",
       "        <tr>\n",
       "        </tr>\n",
       "    </thead>\n",
       "    <tbody>\n",
       "    </tbody>\n",
       "</table>"
      ],
      "text/plain": [
       "++\n",
       "||\n",
       "++\n",
       "++"
      ]
     },
     "execution_count": 33,
     "metadata": {},
     "output_type": "execute_result"
    }
   ],
   "source": [
    "%%sql\n",
    "\n",
    "CREATE TABLE IF NOT EXISTS bootcamp.events (\n",
    "    url STRING,\n",
    "    referrer STRING,\n",
    "    browser_family STRING,\n",
    "    os_family STRING,\n",
    "    device_family STRING,\n",
    "    host STRING,\n",
    "    event_time TIMESTAMP,\n",
    "    event_date DATE\n",
    ")\n",
    "USING iceberg\n",
    "PARTITIONED BY (event_date);"
   ]
  },
  {
   "cell_type": "code",
   "execution_count": 35,
   "metadata": {},
   "outputs": [
    {
     "data": {
      "text/html": [
       "<table>\n",
       "    <thead>\n",
       "        <tr>\n",
       "        </tr>\n",
       "    </thead>\n",
       "    <tbody>\n",
       "    </tbody>\n",
       "</table>"
      ],
      "text/plain": [
       "++\n",
       "||\n",
       "++\n",
       "++"
      ]
     },
     "execution_count": 35,
     "metadata": {},
     "output_type": "execute_result"
    }
   ],
   "source": [
    "%%sql\n",
    "\n",
    "CREATE TABLE IF NOT EXISTS bootcamp.events_sorted (\n",
    "    url STRING,\n",
    "    referrer STRING,\n",
    "    browser_family STRING,\n",
    "    os_family STRING,\n",
    "    device_family STRING,\n",
    "    host STRING,\n",
    "    event_time TIMESTAMP,\n",
    "    event_date DATE\n",
    ")\n",
    "USING iceberg\n",
    "PARTITIONED BY (event_date);"
   ]
  },
  {
   "cell_type": "code",
   "execution_count": 37,
   "metadata": {},
   "outputs": [
    {
     "data": {
      "text/html": [
       "<table>\n",
       "    <thead>\n",
       "        <tr>\n",
       "        </tr>\n",
       "    </thead>\n",
       "    <tbody>\n",
       "    </tbody>\n",
       "</table>"
      ],
      "text/plain": [
       "++\n",
       "||\n",
       "++\n",
       "++"
      ]
     },
     "execution_count": 37,
     "metadata": {},
     "output_type": "execute_result"
    }
   ],
   "source": [
    "%%sql\n",
    "\n",
    "CREATE TABLE IF NOT EXISTS bootcamp.events_unsorted (\n",
    "    url STRING,\n",
    "    referrer STRING,\n",
    "    browser_family STRING,\n",
    "    os_family STRING,\n",
    "    device_family STRING,\n",
    "    host STRING,\n",
    "    event_time TIMESTAMP,\n",
    "    event_date DATE\n",
    ")\n",
    "USING iceberg\n",
    "PARTITIONED BY (event_date);"
   ]
  },
  {
   "cell_type": "code",
   "execution_count": 41,
   "metadata": {},
   "outputs": [
    {
     "name": "stderr",
     "output_type": "stream",
     "text": [
      "                                                                                \r"
     ]
    }
   ],
   "source": [
    "start_df = df_events_devices.repartition(4, col(\"event_date\")).withColumn(\"event_time\", col(\"event_time\").cast(\"timestamp\"))\n",
    "first_sort_df = start_df.sortWithinPartitions(col(\"event_date\"), col(\"browser_type\"), col(\"host\"))\n",
    "\n",
    "start_df.write.mode(\"overwrite\").saveAsTable(\"bootcamp.events_unsorted\")\n",
    "first_sort_df.write.mode(\"overwrite\").saveAsTable(\"bootcamp.events_sorted\")"
   ]
  },
  {
   "cell_type": "code",
   "execution_count": 43,
   "metadata": {},
   "outputs": [
    {
     "data": {
      "text/html": [
       "<table>\n",
       "    <thead>\n",
       "        <tr>\n",
       "            <th>size</th>\n",
       "            <th>num_files</th>\n",
       "            <th>sorted</th>\n",
       "        </tr>\n",
       "    </thead>\n",
       "    <tbody>\n",
       "        <tr>\n",
       "            <td>5091412</td>\n",
       "            <td>4</td>\n",
       "            <td>sorted</td>\n",
       "        </tr>\n",
       "        <tr>\n",
       "            <td>5552970</td>\n",
       "            <td>4</td>\n",
       "            <td>unsorted</td>\n",
       "        </tr>\n",
       "    </tbody>\n",
       "</table>"
      ],
      "text/plain": [
       "+---------+-----------+----------+\n",
       "|    size | num_files |   sorted |\n",
       "+---------+-----------+----------+\n",
       "| 5091412 |         4 |   sorted |\n",
       "| 5552970 |         4 | unsorted |\n",
       "+---------+-----------+----------+"
      ]
     },
     "execution_count": 43,
     "metadata": {},
     "output_type": "execute_result"
    }
   ],
   "source": [
    "%%sql\n",
    "\n",
    "SELECT \n",
    "    SUM(file_size_in_bytes) AS size,\n",
    "    COUNT(*) AS num_files,\n",
    "    'sorted'\n",
    "FROM demo.bootcamp.events_sorted.files\n",
    "UNION ALL\n",
    "SELECT \n",
    "    SUM(file_size_in_bytes) AS size,\n",
    "    COUNT(*) AS num_files,\n",
    "    'unsorted'\n",
    "FROM demo.bootcamp.events_unsorted.files\n"
   ]
  },
  {
   "cell_type": "code",
   "execution_count": 44,
   "metadata": {},
   "outputs": [
    {
     "data": {
      "text/html": [
       "<table>\n",
       "    <thead>\n",
       "        <tr>\n",
       "            <th>content</th>\n",
       "            <th>file_path</th>\n",
       "            <th>file_format</th>\n",
       "            <th>spec_id</th>\n",
       "            <th>partition</th>\n",
       "            <th>record_count</th>\n",
       "            <th>file_size_in_bytes</th>\n",
       "            <th>column_sizes</th>\n",
       "            <th>value_counts</th>\n",
       "            <th>null_value_counts</th>\n",
       "            <th>nan_value_counts</th>\n",
       "            <th>lower_bounds</th>\n",
       "            <th>upper_bounds</th>\n",
       "            <th>key_metadata</th>\n",
       "            <th>split_offsets</th>\n",
       "            <th>equality_ids</th>\n",
       "            <th>sort_order_id</th>\n",
       "            <th>readable_metrics</th>\n",
       "        </tr>\n",
       "    </thead>\n",
       "    <tbody>\n",
       "        <tr>\n",
       "            <td>0</td>\n",
       "            <td>s3://warehouse/bootcamp/events_sorted/data/00000-141-537288d5-5451-4fbc-9e53-83941bf7cd59-0-00001.parquet</td>\n",
       "            <td>PARQUET</td>\n",
       "            <td>1</td>\n",
       "            <td>Row(event_date=None)</td>\n",
       "            <td>89391</td>\n",
       "            <td>1031388</td>\n",
       "            <td>{1: 107448, 2: 61005, 6: 7365, 7: 426434, 8: 2274, 9: 77406, 10: 310046, 11: 11437, 12: 12908, 13: 10692}</td>\n",
       "            <td>{1: 89391, 2: 89391, 6: 89391, 7: 89391, 8: 89391, 9: 89391, 10: 89391, 11: 89391, 12: 89391, 13: 89391}</td>\n",
       "            <td>{1: 0, 2: 46359, 6: 0, 7: 0, 8: 0, 9: 0, 10: 1, 11: 0, 12: 0, 13: 0}</td>\n",
       "            <td>{}</td>\n",
       "            <td>{1: bytearray(b&#x27;/&#x27;), 2: bytearray(b&#x27;52.20.78.240&#x27;), 6: bytearray(b&#x27;aashish.techcrea&#x27;), 7: bytearray(b&#x27; \\xba\\xe7\\xb8\\xa8\\xb8\\x05\\x00&#x27;), 8: bytearray(b&#x27;\\x00\\xa0&amp;\\xb4\\xa8\\xb8\\x05\\x00&#x27;), 9: bytearray(b&#x27;-100210680&#x27;), 10: bytearray(b&#x27;-1000095488&#x27;), 11: bytearray(b&#x27;%E3%82%A6%E3%82%&#x27;), 12: bytearray(b&#x27;Android&#x27;), 13: bytearray(b&#x27;17MB150WB&#x27;)}</td>\n",
       "            <td>{1: bytearray(b&#x27;/zzageqnf.php?Fp&#x27;), 2: bytearray(b&#x27;zachwilson.tech&#x27;), 6: bytearray(b&#x27;zachwilson.techd&#x27;), 7: bytearray(b&#x27;\\xe8\\xb0\\x1b\\x8ec\\x03\\x06\\x00&#x27;), 8: bytearray(b&#x27;\\x00\\xe0dqO\\x03\\x06\\x00&#x27;), 9: bytearray(b&#x27;999535123&#x27;), 10: bytearray(b&#x27;999884938&#x27;), 11: bytearray(b&#x27;webprosbot&#x27;), 12: bytearray(b&#x27;iOS&#x27;), 13: bytearray(b&#x27;vivo $2&#x27;)}</td>\n",
       "            <td>None</td>\n",
       "            <td>[4]</td>\n",
       "            <td>None</td>\n",
       "            <td>0</td>\n",
       "            <td>Row(browser_type=Row(column_size=11437, value_count=89391, null_value_count=0, nan_value_count=None, lower_bound=&#x27;%E3%82%A6%E3%82%&#x27;, upper_bound=&#x27;webprosbot&#x27;), device_id=Row(column_size=77406, value_count=89391, null_value_count=0, nan_value_count=None, lower_bound=&#x27;-100210680&#x27;, upper_bound=&#x27;999535123&#x27;), device_type=Row(column_size=10692, value_count=89391, null_value_count=0, nan_value_count=None, lower_bound=&#x27;17MB150WB&#x27;, upper_bound=&#x27;vivo $2&#x27;), event_date=Row(column_size=2274, value_count=89391, null_value_count=0, nan_value_count=None, lower_bound=datetime.datetime(2021, 1, 12, 0, 0), upper_bound=datetime.datetime(2023, 8, 20, 0, 0)), event_time=Row(column_size=426434, value_count=89391, null_value_count=0, nan_value_count=None, lower_bound=datetime.datetime(2021, 1, 12, 0, 1, 19, 764000), upper_bound=datetime.datetime(2023, 8, 20, 23, 59, 41, 89000)), host=Row(column_size=7365, value_count=89391, null_value_count=0, nan_value_count=None, lower_bound=&#x27;aashish.techcrea&#x27;, upper_bound=&#x27;zachwilson.techd&#x27;), os_type=Row(column_size=12908, value_count=89391, null_value_count=0, nan_value_count=None, lower_bound=&#x27;Android&#x27;, upper_bound=&#x27;iOS&#x27;), referrer=Row(column_size=61005, value_count=89391, null_value_count=46359, nan_value_count=None, lower_bound=&#x27;52.20.78.240&#x27;, upper_bound=&#x27;zachwilson.tech&#x27;), url=Row(column_size=107448, value_count=89391, null_value_count=0, nan_value_count=None, lower_bound=&#x27;/&#x27;, upper_bound=&#x27;/zzageqnf.php?Fp&#x27;), user_id=Row(column_size=310046, value_count=89391, null_value_count=1, nan_value_count=None, lower_bound=&#x27;-1000095488&#x27;, upper_bound=&#x27;999884938&#x27;))</td>\n",
       "        </tr>\n",
       "        <tr>\n",
       "            <td>0</td>\n",
       "            <td>s3://warehouse/bootcamp/events_sorted/data/00001-142-537288d5-5451-4fbc-9e53-83941bf7cd59-0-00001.parquet</td>\n",
       "            <td>PARQUET</td>\n",
       "            <td>1</td>\n",
       "            <td>Row(event_date=None)</td>\n",
       "            <td>99232</td>\n",
       "            <td>1164679</td>\n",
       "            <td>{1: 142161, 2: 67344, 6: 9100, 7: 475847, 8: 2355, 9: 86496, 10: 336994, 11: 11896, 12: 16525, 13: 11505}</td>\n",
       "            <td>{1: 99232, 2: 99232, 6: 99232, 7: 99232, 8: 99232, 9: 99232, 10: 99232, 11: 99232, 12: 99232, 13: 99232}</td>\n",
       "            <td>{1: 0, 2: 49299, 6: 0, 7: 0, 8: 0, 9: 0, 10: 58, 11: 0, 12: 0, 13: 0}</td>\n",
       "            <td>{}</td>\n",
       "            <td>{1: bytearray(b&#x27;&quot;/?&quot;&quot;&lt;?=print(93&#x27;), 2: bytearray(b&#x27;&quot;https://www.goo&#x27;), 6: bytearray(b&#x27;abhishekanand.te&#x27;), 7: bytearray(b&#x27;(\\x83\\xb2EX\\xb8\\x05\\x00&#x27;), 8: bytearray(b&#x27;\\x00 \\xc9&lt;X\\xb8\\x05\\x00&#x27;), 9: bytearray(b&#x27;-100210680&#x27;), 10: bytearray(b&#x27;-1000370060&#x27;), 11: bytearray(b&#x27;) Bot&#x27;), 12: bytearray(b&#x27;Android&#x27;), 13: bytearray(b&#x27;13 Pro Max&#x27;)}</td>\n",
       "            <td>{1: bytearray(b&#x27;/zz.php&#x27;), 2: bytearray(b&#x27;zachwilson.tech&#x27;), 6: bytearray(b&#x27;zsavi524.techcrf&#x27;), 7: bytearray(b&#x27;\\x88\\xb8\\x07P;\\x03\\x06\\x00&#x27;), 8: bytearray(b&quot;\\x00 \\xb65\\&#x27;\\x03\\x06\\x00&quot;), 9: bytearray(b&#x27;999535123&#x27;), 10: bytearray(b&#x27;999956796&#x27;), 11: bytearray(b&#x27;webprosbot&#x27;), 12: bytearray(b&#x27;iOS&#x27;), 13: bytearray(b&#x27;vivo $2&#x27;)}</td>\n",
       "            <td>None</td>\n",
       "            <td>[4]</td>\n",
       "            <td>None</td>\n",
       "            <td>0</td>\n",
       "            <td>Row(browser_type=Row(column_size=11896, value_count=99232, null_value_count=0, nan_value_count=None, lower_bound=&#x27;) Bot&#x27;, upper_bound=&#x27;webprosbot&#x27;), device_id=Row(column_size=86496, value_count=99232, null_value_count=0, nan_value_count=None, lower_bound=&#x27;-100210680&#x27;, upper_bound=&#x27;999535123&#x27;), device_type=Row(column_size=11505, value_count=99232, null_value_count=0, nan_value_count=None, lower_bound=&#x27;13 Pro Max&#x27;, upper_bound=&#x27;vivo $2&#x27;), event_date=Row(column_size=2355, value_count=99232, null_value_count=0, nan_value_count=None, lower_bound=datetime.datetime(2021, 1, 8, 0, 0), upper_bound=datetime.datetime(2023, 8, 18, 0, 0)), event_time=Row(column_size=475847, value_count=99232, null_value_count=0, nan_value_count=None, lower_bound=datetime.datetime(2021, 1, 8, 0, 2, 29, 513000), upper_bound=datetime.datetime(2023, 8, 18, 23, 59, 0, 901000)), host=Row(column_size=9100, value_count=99232, null_value_count=0, nan_value_count=None, lower_bound=&#x27;abhishekanand.te&#x27;, upper_bound=&#x27;zsavi524.techcrf&#x27;), os_type=Row(column_size=16525, value_count=99232, null_value_count=0, nan_value_count=None, lower_bound=&#x27;Android&#x27;, upper_bound=&#x27;iOS&#x27;), referrer=Row(column_size=67344, value_count=99232, null_value_count=49299, nan_value_count=None, lower_bound=&#x27;&quot;https://www.goo&#x27;, upper_bound=&#x27;zachwilson.tech&#x27;), url=Row(column_size=142161, value_count=99232, null_value_count=0, nan_value_count=None, lower_bound=&#x27;&quot;/?&quot;&quot;&lt;?=print(93&#x27;, upper_bound=&#x27;/zz.php&#x27;), user_id=Row(column_size=336994, value_count=99232, null_value_count=58, nan_value_count=None, lower_bound=&#x27;-1000370060&#x27;, upper_bound=&#x27;999956796&#x27;))</td>\n",
       "        </tr>\n",
       "        <tr>\n",
       "            <td>0</td>\n",
       "            <td>s3://warehouse/bootcamp/events_sorted/data/00002-143-537288d5-5451-4fbc-9e53-83941bf7cd59-0-00001.parquet</td>\n",
       "            <td>PARQUET</td>\n",
       "            <td>1</td>\n",
       "            <td>Row(event_date=None)</td>\n",
       "            <td>93956</td>\n",
       "            <td>1354000</td>\n",
       "            <td>{1: 345957, 2: 86593, 6: 8573, 7: 447228, 8: 2019, 9: 86867, 10: 336417, 11: 10948, 12: 12876, 13: 12120}</td>\n",
       "            <td>{1: 93956, 2: 93956, 6: 93956, 7: 93956, 8: 93956, 9: 93956, 10: 93956, 11: 93956, 12: 93956, 13: 93956}</td>\n",
       "            <td>{1: 0, 2: 48227, 6: 0, 7: 0, 8: 0, 9: 0, 10: 0, 11: 1, 12: 1, 13: 1}</td>\n",
       "            <td>{}</td>\n",
       "            <td>{1: bytearray(b&#x27;&quot;/?&quot;&quot;&lt;?=print(93&#x27;), 2: bytearray(b&#x27;&quot;https://www.goo&#x27;), 6: bytearray(b&#x27;ablumhardt.techc&#x27;), 7: bytearray(b&#x27;\\x18\\xe8_\\xb2\\xf3\\xb7\\x05\\x00&#x27;), 8: bytearray(b&#x27;\\x00@\\x94\\xa7\\xf3\\xb7\\x05\\x00&#x27;), 9: bytearray(b&#x27;-1000866068&#x27;), 10: bytearray(b&#x27;-1000675882&#x27;), 11: bytearray(b&#x27;) Bot&#x27;), 12: bytearray(b&#x27;Android&#x27;), 13: bytearray(b&#x27;ALP-AL00&#x27;)}</td>\n",
       "            <td>{1: bytearray(b&#x27;/zz/address.php@&#x27;), 2: bytearray(b&#x27;zachwilson.tech&#x27;), 6: bytearray(b&#x27;zzz.techcreator/&#x27;), 7: bytearray(b&#x27;HE\\xdbM\\xb3\\x03\\x06\\x00&#x27;), 8: bytearray(b&#x27;\\x00`\\xc2\\xe8\\x9f\\x03\\x06\\x00&#x27;), 9: bytearray(b&#x27;998961543&#x27;), 10: bytearray(b&#x27;999956796&#x27;), 11: bytearray(b&#x27;webprosbot&#x27;), 12: bytearray(b&#x27;webOS&#x27;), 13: bytearray(b&#x27;vivo $2&#x27;)}</td>\n",
       "            <td>None</td>\n",
       "            <td>[4]</td>\n",
       "            <td>None</td>\n",
       "            <td>0</td>\n",
       "            <td>Row(browser_type=Row(column_size=10948, value_count=93956, null_value_count=1, nan_value_count=None, lower_bound=&#x27;) Bot&#x27;, upper_bound=&#x27;webprosbot&#x27;), device_id=Row(column_size=86867, value_count=93956, null_value_count=0, nan_value_count=None, lower_bound=&#x27;-1000866068&#x27;, upper_bound=&#x27;998961543&#x27;), device_type=Row(column_size=12120, value_count=93956, null_value_count=1, nan_value_count=None, lower_bound=&#x27;ALP-AL00&#x27;, upper_bound=&#x27;vivo $2&#x27;), event_date=Row(column_size=2019, value_count=93956, null_value_count=0, nan_value_count=None, lower_bound=datetime.datetime(2021, 1, 3, 0, 0), upper_bound=datetime.datetime(2023, 8, 24, 0, 0)), event_time=Row(column_size=447228, value_count=93956, null_value_count=0, nan_value_count=None, lower_bound=datetime.datetime(2021, 1, 3, 0, 3, 1, 119000), upper_bound=datetime.datetime(2023, 8, 24, 23, 8, 20, 509000)), host=Row(column_size=8573, value_count=93956, null_value_count=0, nan_value_count=None, lower_bound=&#x27;ablumhardt.techc&#x27;, upper_bound=&#x27;zzz.techcreator/&#x27;), os_type=Row(column_size=12876, value_count=93956, null_value_count=1, nan_value_count=None, lower_bound=&#x27;Android&#x27;, upper_bound=&#x27;webOS&#x27;), referrer=Row(column_size=86593, value_count=93956, null_value_count=48227, nan_value_count=None, lower_bound=&#x27;&quot;https://www.goo&#x27;, upper_bound=&#x27;zachwilson.tech&#x27;), url=Row(column_size=345957, value_count=93956, null_value_count=0, nan_value_count=None, lower_bound=&#x27;&quot;/?&quot;&quot;&lt;?=print(93&#x27;, upper_bound=&#x27;/zz/address.php@&#x27;), user_id=Row(column_size=336417, value_count=93956, null_value_count=0, nan_value_count=None, lower_bound=&#x27;-1000675882&#x27;, upper_bound=&#x27;999956796&#x27;))</td>\n",
       "        </tr>\n",
       "        <tr>\n",
       "            <td>0</td>\n",
       "            <td>s3://warehouse/bootcamp/events_sorted/data/00003-144-537288d5-5451-4fbc-9e53-83941bf7cd59-0-00001.parquet</td>\n",
       "            <td>PARQUET</td>\n",
       "            <td>1</td>\n",
       "            <td>Row(event_date=None)</td>\n",
       "            <td>122235</td>\n",
       "            <td>1541345</td>\n",
       "            <td>{1: 284335, 2: 87432, 6: 9324, 7: 558656, 8: 2154, 9: 110112, 10: 442464, 11: 11501, 12: 16872, 13: 13540}</td>\n",
       "            <td>{1: 122235, 2: 122235, 6: 122235, 7: 122235, 8: 122235, 9: 122235, 10: 122235, 11: 122235, 12: 122235, 13: 122235}</td>\n",
       "            <td>{1: 0, 2: 53009, 6: 0, 7: 0, 8: 0, 9: 0, 10: 8, 11: 0, 12: 0, 13: 0}</td>\n",
       "            <td>{}</td>\n",
       "            <td>{1: bytearray(b&#x27;/&#x27;), 2: bytearray(b&#x27;3.220.57.224&#x27;), 6: bytearray(b&#x27;accc.techcreator&#x27;), 7: bytearray(b&#x27;@n.\\xbd\\xdf\\xb7\\x05\\x00&#x27;), 8: bytearray(b&#x27;\\x00\\xe0\\xbc\\x89\\xdf\\xb7\\x05\\x00&#x27;), 9: bytearray(b&#x27;-1001669954&#x27;), 10: bytearray(b&#x27;-1000015881&#x27;), 11: bytearray(b&#x27;) Bot&#x27;), 12: bytearray(b&#x27;Android&#x27;), 13: bytearray(b&#x27;$2&#x27;)}</td>\n",
       "            <td>{1: bytearray(b&#x27;/zz.php&#x27;), 2: bytearray(b&#x27;zachwilson.tech&#x27;), 6: bytearray(b&#x27;zachwilson.techd&#x27;), 7: bytearray(b&#x27;\\xd8\\xaf\\x9a\\xe8\\x9f\\x03\\x06\\x00&#x27;), 8: bytearray(b&#x27;\\x00\\x00\\xeb\\xca\\x8b\\x03\\x06\\x00&#x27;), 9: bytearray(b&#x27;998766634&#x27;), 10: bytearray(b&#x27;999882344&#x27;), 11: bytearray(b&#x27;webprosbot&#x27;), 12: bytearray(b&#x27;iOS&#x27;), 13: bytearray(b&#x27;vivo $2&#x27;)}</td>\n",
       "            <td>None</td>\n",
       "            <td>[4]</td>\n",
       "            <td>None</td>\n",
       "            <td>0</td>\n",
       "            <td>Row(browser_type=Row(column_size=11501, value_count=122235, null_value_count=0, nan_value_count=None, lower_bound=&#x27;) Bot&#x27;, upper_bound=&#x27;webprosbot&#x27;), device_id=Row(column_size=110112, value_count=122235, null_value_count=0, nan_value_count=None, lower_bound=&#x27;-1001669954&#x27;, upper_bound=&#x27;998766634&#x27;), device_type=Row(column_size=13540, value_count=122235, null_value_count=0, nan_value_count=None, lower_bound=&#x27;$2&#x27;, upper_bound=&#x27;vivo $2&#x27;), event_date=Row(column_size=2154, value_count=122235, null_value_count=0, nan_value_count=None, lower_bound=datetime.datetime(2021, 1, 2, 0, 0), upper_bound=datetime.datetime(2023, 8, 23, 0, 0)), event_time=Row(column_size=558656, value_count=122235, null_value_count=0, nan_value_count=None, lower_bound=datetime.datetime(2021, 1, 2, 0, 14, 23, 80000), upper_bound=datetime.datetime(2023, 8, 23, 23, 59, 57, 399000)), host=Row(column_size=9324, value_count=122235, null_value_count=0, nan_value_count=None, lower_bound=&#x27;accc.techcreator&#x27;, upper_bound=&#x27;zachwilson.techd&#x27;), os_type=Row(column_size=16872, value_count=122235, null_value_count=0, nan_value_count=None, lower_bound=&#x27;Android&#x27;, upper_bound=&#x27;iOS&#x27;), referrer=Row(column_size=87432, value_count=122235, null_value_count=53009, nan_value_count=None, lower_bound=&#x27;3.220.57.224&#x27;, upper_bound=&#x27;zachwilson.tech&#x27;), url=Row(column_size=284335, value_count=122235, null_value_count=0, nan_value_count=None, lower_bound=&#x27;/&#x27;, upper_bound=&#x27;/zz.php&#x27;), user_id=Row(column_size=442464, value_count=122235, null_value_count=8, nan_value_count=None, lower_bound=&#x27;-1000015881&#x27;, upper_bound=&#x27;999882344&#x27;))</td>\n",
       "        </tr>\n",
       "    </tbody>\n",
       "</table>"
      ],
      "text/plain": [
       "+---------+-----------------------------------------------------------------------------------------------------------+-------------+---------+----------------------+--------------+--------------------+------------------------------------------------------------------------------------------------------------+--------------------------------------------------------------------------------------------------------------------+-----------------------------------------------------------------------+------------------+--------------------------------------------------------------------------------------------------------------------------------------------------------------------------------------------------------------------------------------------------------------------------------------------------------------------------------------------------------+------------------------------------------------------------------------------------------------------------------------------------------------------------------------------------------------------------------------------------------------------------------------------------------------------------------------------------------------+--------------+---------------+--------------+---------------+----------------------------------------------------------------------------------------------------------------------------------------------------------------------------------------------------------------------------------------------------------------------------------------------------------------------------------------------------------------------------------------------------------------------------------------------------------------------------------------------------------------------------------------------------------------------------------------------------------------------------------------------------------------------------------------------------------------------------------------------------------------------------------------------------------------------------------------------------------------------------------------------------------------------------------------------------------------------------------------------------------------------------------------------------------------------------------------------------------------------------------------------------------------------------------------------------------------------------------------------------------------------------------------------------------------------------------------------------------------------------------------------------------------------------------------------------------------------------------------------------------------------------------------------------------------------------------------------------------------------------------------------------------------------+\n",
       "| content |                                                                                                 file_path | file_format | spec_id |            partition | record_count | file_size_in_bytes |                                                                                               column_sizes |                                                                                                       value_counts |                                                     null_value_counts | nan_value_counts |                                                                                                                                                                                                                                                                                                                                           lower_bounds |                                                                                                                                                                                                                                                                                                                                   upper_bounds | key_metadata | split_offsets | equality_ids | sort_order_id |                                                                                                                                                                                                                                                                                                                                                                                                                                                                                                                                                                                                                                                                                                                                                                                                                                                                                                                                                                                                                                                                                                                                                                                                                                                                                                                                                                                                                                                                                                                                                                                                                                                     readable_metrics |\n",
       "+---------+-----------------------------------------------------------------------------------------------------------+-------------+---------+----------------------+--------------+--------------------+------------------------------------------------------------------------------------------------------------+--------------------------------------------------------------------------------------------------------------------+-----------------------------------------------------------------------+------------------+--------------------------------------------------------------------------------------------------------------------------------------------------------------------------------------------------------------------------------------------------------------------------------------------------------------------------------------------------------+------------------------------------------------------------------------------------------------------------------------------------------------------------------------------------------------------------------------------------------------------------------------------------------------------------------------------------------------+--------------+---------------+--------------+---------------+----------------------------------------------------------------------------------------------------------------------------------------------------------------------------------------------------------------------------------------------------------------------------------------------------------------------------------------------------------------------------------------------------------------------------------------------------------------------------------------------------------------------------------------------------------------------------------------------------------------------------------------------------------------------------------------------------------------------------------------------------------------------------------------------------------------------------------------------------------------------------------------------------------------------------------------------------------------------------------------------------------------------------------------------------------------------------------------------------------------------------------------------------------------------------------------------------------------------------------------------------------------------------------------------------------------------------------------------------------------------------------------------------------------------------------------------------------------------------------------------------------------------------------------------------------------------------------------------------------------------------------------------------------------------+\n",
       "|       0 | s3://warehouse/bootcamp/events_sorted/data/00000-141-537288d5-5451-4fbc-9e53-83941bf7cd59-0-00001.parquet |     PARQUET |       1 | Row(event_date=None) |        89391 |            1031388 |  {1: 107448, 2: 61005, 6: 7365, 7: 426434, 8: 2274, 9: 77406, 10: 310046, 11: 11437, 12: 12908, 13: 10692} |           {1: 89391, 2: 89391, 6: 89391, 7: 89391, 8: 89391, 9: 89391, 10: 89391, 11: 89391, 12: 89391, 13: 89391} |  {1: 0, 2: 46359, 6: 0, 7: 0, 8: 0, 9: 0, 10: 1, 11: 0, 12: 0, 13: 0} |               {} |         {1: bytearray(b'/'), 2: bytearray(b'52.20.78.240'), 6: bytearray(b'aashish.techcrea'), 7: bytearray(b' \\xba\\xe7\\xb8\\xa8\\xb8\\x05\\x00'), 8: bytearray(b'\\x00\\xa0&\\xb4\\xa8\\xb8\\x05\\x00'), 9: bytearray(b'-100210680'), 10: bytearray(b'-1000095488'), 11: bytearray(b'%E3%82%A6%E3%82%'), 12: bytearray(b'Android'), 13: bytearray(b'17MB150WB')} |    {1: bytearray(b'/zzageqnf.php?Fp'), 2: bytearray(b'zachwilson.tech'), 6: bytearray(b'zachwilson.techd'), 7: bytearray(b'\\xe8\\xb0\\x1b\\x8ec\\x03\\x06\\x00'), 8: bytearray(b'\\x00\\xe0dqO\\x03\\x06\\x00'), 9: bytearray(b'999535123'), 10: bytearray(b'999884938'), 11: bytearray(b'webprosbot'), 12: bytearray(b'iOS'), 13: bytearray(b'vivo $2')} |         None |           [4] |         None |             0 |        Row(browser_type=Row(column_size=11437, value_count=89391, null_value_count=0, nan_value_count=None, lower_bound='%E3%82%A6%E3%82%', upper_bound='webprosbot'), device_id=Row(column_size=77406, value_count=89391, null_value_count=0, nan_value_count=None, lower_bound='-100210680', upper_bound='999535123'), device_type=Row(column_size=10692, value_count=89391, null_value_count=0, nan_value_count=None, lower_bound='17MB150WB', upper_bound='vivo $2'), event_date=Row(column_size=2274, value_count=89391, null_value_count=0, nan_value_count=None, lower_bound=datetime.datetime(2021, 1, 12, 0, 0), upper_bound=datetime.datetime(2023, 8, 20, 0, 0)), event_time=Row(column_size=426434, value_count=89391, null_value_count=0, nan_value_count=None, lower_bound=datetime.datetime(2021, 1, 12, 0, 1, 19, 764000), upper_bound=datetime.datetime(2023, 8, 20, 23, 59, 41, 89000)), host=Row(column_size=7365, value_count=89391, null_value_count=0, nan_value_count=None, lower_bound='aashish.techcrea', upper_bound='zachwilson.techd'), os_type=Row(column_size=12908, value_count=89391, null_value_count=0, nan_value_count=None, lower_bound='Android', upper_bound='iOS'), referrer=Row(column_size=61005, value_count=89391, null_value_count=46359, nan_value_count=None, lower_bound='52.20.78.240', upper_bound='zachwilson.tech'), url=Row(column_size=107448, value_count=89391, null_value_count=0, nan_value_count=None, lower_bound='/', upper_bound='/zzageqnf.php?Fp'), user_id=Row(column_size=310046, value_count=89391, null_value_count=1, nan_value_count=None, lower_bound='-1000095488', upper_bound='999884938')) |\n",
       "|       0 | s3://warehouse/bootcamp/events_sorted/data/00001-142-537288d5-5451-4fbc-9e53-83941bf7cd59-0-00001.parquet |     PARQUET |       1 | Row(event_date=None) |        99232 |            1164679 |  {1: 142161, 2: 67344, 6: 9100, 7: 475847, 8: 2355, 9: 86496, 10: 336994, 11: 11896, 12: 16525, 13: 11505} |           {1: 99232, 2: 99232, 6: 99232, 7: 99232, 8: 99232, 9: 99232, 10: 99232, 11: 99232, 12: 99232, 13: 99232} | {1: 0, 2: 49299, 6: 0, 7: 0, 8: 0, 9: 0, 10: 58, 11: 0, 12: 0, 13: 0} |               {} |            {1: bytearray(b'\"/?\"\"<?=print(93'), 2: bytearray(b'\"https://www.goo'), 6: bytearray(b'abhishekanand.te'), 7: bytearray(b'(\\x83\\xb2EX\\xb8\\x05\\x00'), 8: bytearray(b'\\x00 \\xc9<X\\xb8\\x05\\x00'), 9: bytearray(b'-100210680'), 10: bytearray(b'-1000370060'), 11: bytearray(b') Bot'), 12: bytearray(b'Android'), 13: bytearray(b'13 Pro Max')} |               {1: bytearray(b'/zz.php'), 2: bytearray(b'zachwilson.tech'), 6: bytearray(b'zsavi524.techcrf'), 7: bytearray(b'\\x88\\xb8\\x07P;\\x03\\x06\\x00'), 8: bytearray(b\"\\x00 \\xb65\\'\\x03\\x06\\x00\"), 9: bytearray(b'999535123'), 10: bytearray(b'999956796'), 11: bytearray(b'webprosbot'), 12: bytearray(b'iOS'), 13: bytearray(b'vivo $2')} |         None |           [4] |         None |             0 |         Row(browser_type=Row(column_size=11896, value_count=99232, null_value_count=0, nan_value_count=None, lower_bound=') Bot', upper_bound='webprosbot'), device_id=Row(column_size=86496, value_count=99232, null_value_count=0, nan_value_count=None, lower_bound='-100210680', upper_bound='999535123'), device_type=Row(column_size=11505, value_count=99232, null_value_count=0, nan_value_count=None, lower_bound='13 Pro Max', upper_bound='vivo $2'), event_date=Row(column_size=2355, value_count=99232, null_value_count=0, nan_value_count=None, lower_bound=datetime.datetime(2021, 1, 8, 0, 0), upper_bound=datetime.datetime(2023, 8, 18, 0, 0)), event_time=Row(column_size=475847, value_count=99232, null_value_count=0, nan_value_count=None, lower_bound=datetime.datetime(2021, 1, 8, 0, 2, 29, 513000), upper_bound=datetime.datetime(2023, 8, 18, 23, 59, 0, 901000)), host=Row(column_size=9100, value_count=99232, null_value_count=0, nan_value_count=None, lower_bound='abhishekanand.te', upper_bound='zsavi524.techcrf'), os_type=Row(column_size=16525, value_count=99232, null_value_count=0, nan_value_count=None, lower_bound='Android', upper_bound='iOS'), referrer=Row(column_size=67344, value_count=99232, null_value_count=49299, nan_value_count=None, lower_bound='\"https://www.goo', upper_bound='zachwilson.tech'), url=Row(column_size=142161, value_count=99232, null_value_count=0, nan_value_count=None, lower_bound='\"/?\"\"<?=print(93', upper_bound='/zz.php'), user_id=Row(column_size=336994, value_count=99232, null_value_count=58, nan_value_count=None, lower_bound='-1000370060', upper_bound='999956796')) |\n",
       "|       0 | s3://warehouse/bootcamp/events_sorted/data/00002-143-537288d5-5451-4fbc-9e53-83941bf7cd59-0-00001.parquet |     PARQUET |       1 | Row(event_date=None) |        93956 |            1354000 |  {1: 345957, 2: 86593, 6: 8573, 7: 447228, 8: 2019, 9: 86867, 10: 336417, 11: 10948, 12: 12876, 13: 12120} |           {1: 93956, 2: 93956, 6: 93956, 7: 93956, 8: 93956, 9: 93956, 10: 93956, 11: 93956, 12: 93956, 13: 93956} |  {1: 0, 2: 48227, 6: 0, 7: 0, 8: 0, 9: 0, 10: 0, 11: 1, 12: 1, 13: 1} |               {} | {1: bytearray(b'\"/?\"\"<?=print(93'), 2: bytearray(b'\"https://www.goo'), 6: bytearray(b'ablumhardt.techc'), 7: bytearray(b'\\x18\\xe8_\\xb2\\xf3\\xb7\\x05\\x00'), 8: bytearray(b'\\x00@\\x94\\xa7\\xf3\\xb7\\x05\\x00'), 9: bytearray(b'-1000866068'), 10: bytearray(b'-1000675882'), 11: bytearray(b') Bot'), 12: bytearray(b'Android'), 13: bytearray(b'ALP-AL00')} |  {1: bytearray(b'/zz/address.php@'), 2: bytearray(b'zachwilson.tech'), 6: bytearray(b'zzz.techcreator/'), 7: bytearray(b'HE\\xdbM\\xb3\\x03\\x06\\x00'), 8: bytearray(b'\\x00`\\xc2\\xe8\\x9f\\x03\\x06\\x00'), 9: bytearray(b'998961543'), 10: bytearray(b'999956796'), 11: bytearray(b'webprosbot'), 12: bytearray(b'webOS'), 13: bytearray(b'vivo $2')} |         None |           [4] |         None |             0 | Row(browser_type=Row(column_size=10948, value_count=93956, null_value_count=1, nan_value_count=None, lower_bound=') Bot', upper_bound='webprosbot'), device_id=Row(column_size=86867, value_count=93956, null_value_count=0, nan_value_count=None, lower_bound='-1000866068', upper_bound='998961543'), device_type=Row(column_size=12120, value_count=93956, null_value_count=1, nan_value_count=None, lower_bound='ALP-AL00', upper_bound='vivo $2'), event_date=Row(column_size=2019, value_count=93956, null_value_count=0, nan_value_count=None, lower_bound=datetime.datetime(2021, 1, 3, 0, 0), upper_bound=datetime.datetime(2023, 8, 24, 0, 0)), event_time=Row(column_size=447228, value_count=93956, null_value_count=0, nan_value_count=None, lower_bound=datetime.datetime(2021, 1, 3, 0, 3, 1, 119000), upper_bound=datetime.datetime(2023, 8, 24, 23, 8, 20, 509000)), host=Row(column_size=8573, value_count=93956, null_value_count=0, nan_value_count=None, lower_bound='ablumhardt.techc', upper_bound='zzz.techcreator/'), os_type=Row(column_size=12876, value_count=93956, null_value_count=1, nan_value_count=None, lower_bound='Android', upper_bound='webOS'), referrer=Row(column_size=86593, value_count=93956, null_value_count=48227, nan_value_count=None, lower_bound='\"https://www.goo', upper_bound='zachwilson.tech'), url=Row(column_size=345957, value_count=93956, null_value_count=0, nan_value_count=None, lower_bound='\"/?\"\"<?=print(93', upper_bound='/zz/address.php@'), user_id=Row(column_size=336417, value_count=93956, null_value_count=0, nan_value_count=None, lower_bound='-1000675882', upper_bound='999956796')) |\n",
       "|       0 | s3://warehouse/bootcamp/events_sorted/data/00003-144-537288d5-5451-4fbc-9e53-83941bf7cd59-0-00001.parquet |     PARQUET |       1 | Row(event_date=None) |       122235 |            1541345 | {1: 284335, 2: 87432, 6: 9324, 7: 558656, 8: 2154, 9: 110112, 10: 442464, 11: 11501, 12: 16872, 13: 13540} | {1: 122235, 2: 122235, 6: 122235, 7: 122235, 8: 122235, 9: 122235, 10: 122235, 11: 122235, 12: 122235, 13: 122235} |  {1: 0, 2: 53009, 6: 0, 7: 0, 8: 0, 9: 0, 10: 8, 11: 0, 12: 0, 13: 0} |               {} |                             {1: bytearray(b'/'), 2: bytearray(b'3.220.57.224'), 6: bytearray(b'accc.techcreator'), 7: bytearray(b'@n.\\xbd\\xdf\\xb7\\x05\\x00'), 8: bytearray(b'\\x00\\xe0\\xbc\\x89\\xdf\\xb7\\x05\\x00'), 9: bytearray(b'-1001669954'), 10: bytearray(b'-1000015881'), 11: bytearray(b') Bot'), 12: bytearray(b'Android'), 13: bytearray(b'$2')} | {1: bytearray(b'/zz.php'), 2: bytearray(b'zachwilson.tech'), 6: bytearray(b'zachwilson.techd'), 7: bytearray(b'\\xd8\\xaf\\x9a\\xe8\\x9f\\x03\\x06\\x00'), 8: bytearray(b'\\x00\\x00\\xeb\\xca\\x8b\\x03\\x06\\x00'), 9: bytearray(b'998766634'), 10: bytearray(b'999882344'), 11: bytearray(b'webprosbot'), 12: bytearray(b'iOS'), 13: bytearray(b'vivo $2')} |         None |           [4] |         None |             0 |                        Row(browser_type=Row(column_size=11501, value_count=122235, null_value_count=0, nan_value_count=None, lower_bound=') Bot', upper_bound='webprosbot'), device_id=Row(column_size=110112, value_count=122235, null_value_count=0, nan_value_count=None, lower_bound='-1001669954', upper_bound='998766634'), device_type=Row(column_size=13540, value_count=122235, null_value_count=0, nan_value_count=None, lower_bound='$2', upper_bound='vivo $2'), event_date=Row(column_size=2154, value_count=122235, null_value_count=0, nan_value_count=None, lower_bound=datetime.datetime(2021, 1, 2, 0, 0), upper_bound=datetime.datetime(2023, 8, 23, 0, 0)), event_time=Row(column_size=558656, value_count=122235, null_value_count=0, nan_value_count=None, lower_bound=datetime.datetime(2021, 1, 2, 0, 14, 23, 80000), upper_bound=datetime.datetime(2023, 8, 23, 23, 59, 57, 399000)), host=Row(column_size=9324, value_count=122235, null_value_count=0, nan_value_count=None, lower_bound='accc.techcreator', upper_bound='zachwilson.techd'), os_type=Row(column_size=16872, value_count=122235, null_value_count=0, nan_value_count=None, lower_bound='Android', upper_bound='iOS'), referrer=Row(column_size=87432, value_count=122235, null_value_count=53009, nan_value_count=None, lower_bound='3.220.57.224', upper_bound='zachwilson.tech'), url=Row(column_size=284335, value_count=122235, null_value_count=0, nan_value_count=None, lower_bound='/', upper_bound='/zz.php'), user_id=Row(column_size=442464, value_count=122235, null_value_count=8, nan_value_count=None, lower_bound='-1000015881', upper_bound='999882344')) |\n",
       "+---------+-----------------------------------------------------------------------------------------------------------+-------------+---------+----------------------+--------------+--------------------+------------------------------------------------------------------------------------------------------------+--------------------------------------------------------------------------------------------------------------------+-----------------------------------------------------------------------+------------------+--------------------------------------------------------------------------------------------------------------------------------------------------------------------------------------------------------------------------------------------------------------------------------------------------------------------------------------------------------+------------------------------------------------------------------------------------------------------------------------------------------------------------------------------------------------------------------------------------------------------------------------------------------------------------------------------------------------+--------------+---------------+--------------+---------------+----------------------------------------------------------------------------------------------------------------------------------------------------------------------------------------------------------------------------------------------------------------------------------------------------------------------------------------------------------------------------------------------------------------------------------------------------------------------------------------------------------------------------------------------------------------------------------------------------------------------------------------------------------------------------------------------------------------------------------------------------------------------------------------------------------------------------------------------------------------------------------------------------------------------------------------------------------------------------------------------------------------------------------------------------------------------------------------------------------------------------------------------------------------------------------------------------------------------------------------------------------------------------------------------------------------------------------------------------------------------------------------------------------------------------------------------------------------------------------------------------------------------------------------------------------------------------------------------------------------------------------------------------------------------+"
      ]
     },
     "execution_count": 44,
     "metadata": {},
     "output_type": "execute_result"
    }
   ],
   "source": [
    "%%sql\n",
    "\n",
    "SELECT *\n",
    "FROM demo.bootcamp.events_sorted.files"
   ]
  },
  {
   "cell_type": "code",
   "execution_count": null,
   "metadata": {},
   "outputs": [],
   "source": []
  }
 ],
 "metadata": {
  "kernelspec": {
   "display_name": "Python 3 (ipykernel)",
   "language": "python",
   "name": "python3"
  },
  "language_info": {
   "codemirror_mode": {
    "name": "ipython",
    "version": 3
   },
   "file_extension": ".py",
   "mimetype": "text/x-python",
   "name": "python",
   "nbconvert_exporter": "python",
   "pygments_lexer": "ipython3",
   "version": "3.9.18"
  }
 },
 "nbformat": 4,
 "nbformat_minor": 4
}
